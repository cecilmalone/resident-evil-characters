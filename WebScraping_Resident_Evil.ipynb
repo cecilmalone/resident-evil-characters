{
 "cells": [
  {
   "cell_type": "markdown",
   "metadata": {},
   "source": [
    "# Web Scraping de Personagens do Resident Evil em Python\n",
    "\n",
    "Webscraping realizado no site [Resident Evil Database](http://www.residentevildatabase.com/) seguindo o tutorial explicado nos videos abaixo:\n",
    "\n",
    "[Parte 1 - Webscraping - Personagens Resident Evil - Python](https://www.youtube.com/watch?v=zAWN5dNDYSo)\n",
    "\n",
    "[Parte 2 - Webscraping - Personagens Resident Evil - Python](https://www.youtube.com/watch?v=tmA1dhW3XN0)"
   ]
  },
  {
   "cell_type": "code",
   "execution_count": 1,
   "metadata": {},
   "outputs": [],
   "source": [
    "import requests # Requisições Web\n",
    "import pandas as pd # DataFrame\n",
    "from bs4 import BeautifulSoup # Parser de HTML"
   ]
  },
  {
   "cell_type": "code",
   "execution_count": 2,
   "metadata": {},
   "outputs": [],
   "source": [
    "def obtem_aparicoes(url):\n",
    "    html = requests.get(url)\n",
    "    bs_obj = BeautifulSoup(html.text, 'lxml')\n",
    "    h4 = bs_obj.find({'h4': 'Aparições em títulos da série:'})\n",
    "    aparicoes = [i.text for i in h4.find_next().find_all('a')]\n",
    "    \n",
    "    return aparicoes\n",
    "\n",
    "def obtem_personagem(url):\n",
    "    aparicoes = obtem_aparicoes(url)\n",
    "    nome = [url.split('/')[-2]] * len(aparicoes)\n",
    "    \n",
    "    return pd.DataFrame( {'nome': nome, 'aparicao': aparicoes})\n",
    "\n",
    "def get_all_links(url):\n",
    "    html = requests.get(url)\n",
    "    bs_obj = BeautifulSoup(html.text, 'lxml')\n",
    "    links = []\n",
    "    h3 = bs_obj.find_all('h3', style='padding-left: 30px;')\n",
    "    for i in h3:\n",
    "        links += [j['href'] for j in i.find_next().find_all('a')]\n",
    "    return links"
   ]
  },
  {
   "cell_type": "code",
   "execution_count": 3,
   "metadata": {},
   "outputs": [],
   "source": [
    "url = 'http://www.residentevildatabase.com/personagens/'\n",
    "links = get_all_links(url)"
   ]
  },
  {
   "cell_type": "code",
   "execution_count": 4,
   "metadata": {},
   "outputs": [],
   "source": [
    "df = pd.DataFrame()\n",
    "for l in links:\n",
    "    df = pd.concat([df, obtem_personagem(l)]) "
   ]
  },
  {
   "cell_type": "code",
   "execution_count": 5,
   "metadata": {},
   "outputs": [],
   "source": [
    "df.to_excel('data_personagens.xlsx')"
   ]
  }
 ],
 "metadata": {
  "kernelspec": {
   "display_name": "Python 3",
   "language": "python",
   "name": "python3"
  },
  "language_info": {
   "codemirror_mode": {
    "name": "ipython",
    "version": 3
   },
   "file_extension": ".py",
   "mimetype": "text/x-python",
   "name": "python",
   "nbconvert_exporter": "python",
   "pygments_lexer": "ipython3",
   "version": "3.7.0"
  }
 },
 "nbformat": 4,
 "nbformat_minor": 2
}
